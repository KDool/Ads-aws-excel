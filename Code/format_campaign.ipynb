{
 "cells": [
  {
   "cell_type": "code",
   "execution_count": null,
   "metadata": {},
   "outputs": [],
   "source": [
    "def create_camp_name(SKU,Market,SP,KW,):\n",
    "    camp_name = SKU+ Market + SP + AUTO/KW/ASIN/ACST/KCST/SKW (Single KW) + (Lowbid) + (Match Type)  + Account + Date + Creator + STT\n",
    "    return"
   ]
  }
 ],
 "metadata": {
  "language_info": {
   "name": "python"
  },
  "orig_nbformat": 4
 },
 "nbformat": 4,
 "nbformat_minor": 2
}
