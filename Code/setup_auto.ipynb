{
 "cells": [
  {
   "cell_type": "code",
   "execution_count": 1,
   "metadata": {},
   "outputs": [],
   "source": [
    "import pandas as pd\n",
    "import openpyxl\n",
    "import xlsxwriter\n",
    "from datetime import date"
   ]
  },
  {
   "cell_type": "code",
   "execution_count": 4,
   "metadata": {},
   "outputs": [],
   "source": [
    "input_df = pd.read_excel('../sample_files/Input_SP_Auto.xlsx',index_col=False)"
   ]
  },
  {
   "cell_type": "code",
   "execution_count": 5,
   "metadata": {},
   "outputs": [
    {
     "data": {
      "text/html": [
       "<div>\n",
       "<style scoped>\n",
       "    .dataframe tbody tr th:only-of-type {\n",
       "        vertical-align: middle;\n",
       "    }\n",
       "\n",
       "    .dataframe tbody tr th {\n",
       "        vertical-align: top;\n",
       "    }\n",
       "\n",
       "    .dataframe thead th {\n",
       "        text-align: right;\n",
       "    }\n",
       "</style>\n",
       "<table border=\"1\" class=\"dataframe\">\n",
       "  <thead>\n",
       "    <tr style=\"text-align: right;\">\n",
       "      <th></th>\n",
       "      <th>SKU</th>\n",
       "      <th>CODE</th>\n",
       "      <th>Market</th>\n",
       "      <th>PPC Type</th>\n",
       "      <th>Targeting type</th>\n",
       "      <th>Match type</th>\n",
       "      <th>BRAND</th>\n",
       "      <th>Date</th>\n",
       "      <th>PIC</th>\n",
       "      <th>STT</th>\n",
       "      <th>Budget</th>\n",
       "      <th>Targeting</th>\n",
       "      <th>Bid</th>\n",
       "      <th>Bid strategy</th>\n",
       "      <th>Placement</th>\n",
       "      <th>Percentage</th>\n",
       "    </tr>\n",
       "  </thead>\n",
       "  <tbody>\n",
       "    <tr>\n",
       "      <th>0</th>\n",
       "      <td>set 9 - 001</td>\n",
       "      <td>CC-0031-0002</td>\n",
       "      <td>US</td>\n",
       "      <td>SP</td>\n",
       "      <td>AUTO</td>\n",
       "      <td>NaN</td>\n",
       "      <td>Chicnchill</td>\n",
       "      <td>20221212</td>\n",
       "      <td>HUY</td>\n",
       "      <td>1</td>\n",
       "      <td>10</td>\n",
       "      <td>NaN</td>\n",
       "      <td>0.5</td>\n",
       "      <td>Dynamic bids - down only</td>\n",
       "      <td>placementTop</td>\n",
       "      <td>0.5</td>\n",
       "    </tr>\n",
       "    <tr>\n",
       "      <th>1</th>\n",
       "      <td>set 9 - 002</td>\n",
       "      <td>CC-0031-0002</td>\n",
       "      <td>US</td>\n",
       "      <td>SP</td>\n",
       "      <td>AUTO</td>\n",
       "      <td>NaN</td>\n",
       "      <td>Chicnchill</td>\n",
       "      <td>20221212</td>\n",
       "      <td>HUY</td>\n",
       "      <td>2</td>\n",
       "      <td>10</td>\n",
       "      <td>NaN</td>\n",
       "      <td>0.5</td>\n",
       "      <td>Dynamic bids - down only</td>\n",
       "      <td>placementTop</td>\n",
       "      <td>0.2</td>\n",
       "    </tr>\n",
       "  </tbody>\n",
       "</table>\n",
       "</div>"
      ],
      "text/plain": [
       "           SKU          CODE Market PPC Type Targeting type  Match type  \\\n",
       "0  set 9 - 001  CC-0031-0002     US       SP           AUTO         NaN   \n",
       "1  set 9 - 002  CC-0031-0002     US       SP           AUTO         NaN   \n",
       "\n",
       "        BRAND      Date  PIC  STT  Budget  Targeting  Bid  \\\n",
       "0  Chicnchill  20221212  HUY    1      10        NaN  0.5   \n",
       "1  Chicnchill  20221212  HUY    2      10        NaN  0.5   \n",
       "\n",
       "               Bid strategy     Placement  Percentage  \n",
       "0  Dynamic bids - down only  placementTop         0.5  \n",
       "1  Dynamic bids - down only  placementTop         0.2  "
      ]
     },
     "execution_count": 5,
     "metadata": {},
     "output_type": "execute_result"
    }
   ],
   "source": [
    "input_df"
   ]
  },
  {
   "cell_type": "code",
   "execution_count": 6,
   "metadata": {},
   "outputs": [],
   "source": [
    "def create_single_row_SP(columns:list,cam_id):\n",
    "    single_row_dictionary = {}\n",
    "    for item in columns:\n",
    "        if item == 'Product':\n",
    "            single_row_dictionary[item] = 'Sponsored Products'\n",
    "        elif item == 'Operation':\n",
    "            single_row_dictionary[item] = 'Create'\n",
    "        elif item == 'Campaign Id':\n",
    "            single_row_dictionary[item] = cam_id\n",
    "        else:\n",
    "            single_row_dictionary[item] = None\n",
    "    return single_row_dictionary"
   ]
  },
  {
   "cell_type": "code",
   "execution_count": 7,
   "metadata": {},
   "outputs": [],
   "source": [
    "def createDataFrame_Auto(cam_id,budget,productName,bid,bidding_strategy,percentage,date):\n",
    "    columns=['Product','Entity','Operation','Campaign Id','Ad Group Id','Portfolio Id',\n",
    "                           'Ad Id','Keyword Id','Product Targeting Id','Campaign Name','Ad Group Name',\n",
    "                           'Start Date','End Date','Targeting Type','State','Daily Budget','SKU','Asin',\n",
    "                           'Ad Group Default Bid','Bid','Keyword Text','Match Type','Bidding Strategy',\n",
    "                           'Placement','Percentage','Product Targeting Expression']\n",
    "    df = pd.DataFrame(columns=columns)\n",
    "    # 5 dong co dinh\n",
    "    for i in range (0,5):\n",
    "        df = df.append(create_single_row_SP(columns=columns,cam_id=cam_id),ignore_index=True)\n",
    "        \n",
    "    df.iloc[0]['Entity'] = 'Campaign'\n",
    "    df.iloc[0]['Campaign Name'] = cam_id\n",
    "    df.iloc[0]['Targeting Type'] = 'Auto'\n",
    "    df.iloc[0]['Start Date'] = str(date)\n",
    "    df.iloc[0]['Daily Budget'] = budget\n",
    "    df.iloc[0]['Bidding Strategy'] = bidding_strategy\n",
    "    df.iloc[0]['State'] = 'Enable'\n",
    "\n",
    "\n",
    "    df.iloc[1]['Entity'] = 'Bidding Adjustment'\n",
    "    df.iloc[1]['Placement'] = 'placementTop'\n",
    "    df.iloc[1]['Percentage'] = percentage\n",
    "\n",
    "    df.iloc[2]['Entity'] = 'Bidding Adjustment'\n",
    "    df.iloc[2]['Placement'] = 'placementProductPage'\n",
    "    df.iloc[2]['Percentage'] = percentage\n",
    "\n",
    "    df.iloc[3]['Entity'] = 'Ad group'\n",
    "    df.iloc[3]['Ad Group Id'] = cam_id\n",
    "    df.iloc[3]['Ad Group Name'] = cam_id\n",
    "    df.iloc[3]['State'] = 'Enable'\n",
    "    df.iloc[3]['Ad Group Default Bid'] = productName\n",
    "    # df.iloc[3]['Ad Group Default Bid'] = bid\n",
    "    \n",
    "    df.iloc[4]['Entity'] = 'Product ad'\n",
    "    df.iloc[4]['Ad Group Id'] = cam_id\n",
    "    df.iloc[4]['sku'] = productName\n",
    "    df.iloc[4]['State'] = 'Enable'\n",
    "\n",
    "    return df"
   ]
  },
  {
   "cell_type": "code",
   "execution_count": 10,
   "metadata": {},
   "outputs": [],
   "source": [
    "framelist = []\n",
    "for i in range(len(input_df)):\n",
    "    cam_id = str(input_df.iloc[i]['CODE']) +  str(input_df.iloc[i]['Market']) + str(input_df.iloc[i]['PPC Type']) + str(input_df.iloc[i]['Match type'])+ str(input_df.iloc[i]['BRAND']) + str(input_df.iloc[i]['Date']) +str(input_df.iloc[i]['PIC'] + str(input_df.iloc[i]['STT']))\n",
    "    temp_df = createDataFrame_Auto(cam_id=cam_id,budget=input_df.iloc[i]['Budget'],productName=input_df.iloc[i]['SKU'],\n",
    "                                    bid=input_df.iloc[i]['Bid'], bidding_strategy=input_df.iloc[i]['Bid strategy'],percentage=\"{:.0%}\".format(input_df.iloc[i]['Percentage']),date=str(input_df.iloc[i]['Date']))\n",
    "    \n",
    "    framelist.append(temp_df)\n",
    "\n",
    "output_df = pd.concat(framelist)"
   ]
  },
  {
   "cell_type": "code",
   "execution_count": 11,
   "metadata": {},
   "outputs": [],
   "source": [
    "def export_excel(output_df:pd.DataFrame,file_export_path='',sheet_name=''):\n",
    "    writer = pd.ExcelWriter(file_export_path, engine='xlsxwriter')\n",
    "    output_df.to_excel(writer,sheet_name = sheet_name, index=False)\n",
    "    # output_df.to_excel(writer,sheet_name = 'sheet_keyword', index=False)\n",
    "    writer.save() \n"
   ]
  },
  {
   "cell_type": "code",
   "execution_count": 12,
   "metadata": {},
   "outputs": [],
   "source": [
    "export_excel(output_df=output_df,file_export_path='text.xlsx',sheet_name='Sheet1')"
   ]
  }
 ],
 "metadata": {
  "kernelspec": {
   "display_name": "Python 3",
   "language": "python",
   "name": "python3"
  },
  "language_info": {
   "codemirror_mode": {
    "name": "ipython",
    "version": 3
   },
   "file_extension": ".py",
   "mimetype": "text/x-python",
   "name": "python",
   "nbconvert_exporter": "python",
   "pygments_lexer": "ipython3",
   "version": "3.9.12"
  },
  "orig_nbformat": 4,
  "vscode": {
   "interpreter": {
    "hash": "aee8b7b246df8f9039afb4144a1f6fd8d2ca17a180786b69acc140d282b71a49"
   }
  }
 },
 "nbformat": 4,
 "nbformat_minor": 2
}
