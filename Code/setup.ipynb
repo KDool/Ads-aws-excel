{
 "cells": [
  {
   "cell_type": "code",
   "execution_count": null,
   "metadata": {},
   "outputs": [],
   "source": [
    "!pip install openpyxl\n",
    "!pip install xlsxwriter"
   ]
  },
  {
   "cell_type": "code",
   "execution_count": 108,
   "metadata": {},
   "outputs": [],
   "source": [
    "import pandas as pd\n",
    "import openpyxl\n",
    "import xlsxwriter\n",
    "from datetime import date\n",
    "\n"
   ]
  },
  {
   "cell_type": "code",
   "execution_count": 109,
   "metadata": {},
   "outputs": [
    {
     "data": {
      "text/html": [
       "<div>\n",
       "<style scoped>\n",
       "    .dataframe tbody tr th:only-of-type {\n",
       "        vertical-align: middle;\n",
       "    }\n",
       "\n",
       "    .dataframe tbody tr th {\n",
       "        vertical-align: top;\n",
       "    }\n",
       "\n",
       "    .dataframe thead th {\n",
       "        text-align: right;\n",
       "    }\n",
       "</style>\n",
       "<table border=\"1\" class=\"dataframe\">\n",
       "  <thead>\n",
       "    <tr style=\"text-align: right;\">\n",
       "      <th></th>\n",
       "      <th>CamName</th>\n",
       "      <th>Asin</th>\n",
       "      <th>DailyBudget</th>\n",
       "      <th>ProductName</th>\n",
       "      <th>Bid</th>\n",
       "    </tr>\n",
       "  </thead>\n",
       "  <tbody>\n",
       "    <tr>\n",
       "      <th>0</th>\n",
       "      <td>ABC1</td>\n",
       "      <td>SA001</td>\n",
       "      <td>1000.0</td>\n",
       "      <td>Example</td>\n",
       "      <td>0.7</td>\n",
       "    </tr>\n",
       "    <tr>\n",
       "      <th>1</th>\n",
       "      <td>NaN</td>\n",
       "      <td>SA002</td>\n",
       "      <td>NaN</td>\n",
       "      <td>NaN</td>\n",
       "      <td>NaN</td>\n",
       "    </tr>\n",
       "  </tbody>\n",
       "</table>\n",
       "</div>"
      ],
      "text/plain": [
       "  CamName   Asin  DailyBudget ProductName  Bid\n",
       "0    ABC1  SA001       1000.0     Example  0.7\n",
       "1     NaN  SA002          NaN         NaN  NaN"
      ]
     },
     "execution_count": 109,
     "metadata": {},
     "output_type": "execute_result"
    }
   ],
   "source": [
    "input_df = pd.read_excel('Book1.xlsx',index_col=False)\n",
    "input_df"
   ]
  },
  {
   "cell_type": "code",
   "execution_count": 117,
   "metadata": {},
   "outputs": [],
   "source": [
    "# Read Information from excel file\n",
    "def read_information_setup(excel_input=''): \n",
    "    input_df = pd.read_excel(excel_input,index_col=False)\n",
    "    # cam_name.remove('nan')\n",
    "    cam_list = [x for x in input_df['CamName'].to_list() if str(x) != 'nan']\n",
    "    asin_list = [x for x in input_df['Asin'].to_list() if str(x) != 'nan']\n",
    "    budget_list = [x for x in input_df['DailyBudget'].to_list() if str(x) != 'nan']\n",
    "    productName_list = [x for x in input_df['ProductName'].to_list() if str(x) != 'nan']\n",
    "    bid_list = [x for x in input_df['Bid'].to_list() if str(x) != 'nan']\n",
    "    return  cam_list[0],asin_list,budget_list[0],productName_list[0],bid_list[0]"
   ]
  },
  {
   "cell_type": "code",
   "execution_count": 118,
   "metadata": {},
   "outputs": [],
   "source": [
    "x1,x2,x3,x4,x5 = read_information_setup('Book1.xlsx')"
   ]
  },
  {
   "cell_type": "code",
   "execution_count": 119,
   "metadata": {},
   "outputs": [
    {
     "name": "stdout",
     "output_type": "stream",
     "text": [
      "ABC1\n",
      "['SA001', 'SA002']\n",
      "1000.0\n",
      "Example\n",
      "0.7\n"
     ]
    }
   ],
   "source": [
    "print(x1)\n",
    "print(x2)\n",
    "print(x3)\n",
    "print(x4)\n",
    "print(x5)"
   ]
  },
  {
   "cell_type": "code",
   "execution_count": 120,
   "metadata": {},
   "outputs": [],
   "source": [
    "# Create Setup DataFrame\n",
    "\n",
    "def create_single_row(columns:list,cam_id):\n",
    "    single_row_dictionary = {}\n",
    "    for item in columns:\n",
    "        if item == 'Product':\n",
    "            single_row_dictionary[item] = 'Sponsored Products'\n",
    "        elif item == 'Operation':\n",
    "            single_row_dictionary[item] = 'Create'\n",
    "        elif item == 'Campaign Id':\n",
    "            single_row_dictionary[item] = cam_id\n",
    "        elif item == 'State':\n",
    "            single_row_dictionary[item] = 'enabled'\n",
    "        else:\n",
    "            single_row_dictionary[item] = None\n",
    "    return single_row_dictionary\n",
    "\n",
    "def createDataFrame(cam_id,asin_list:list,budget,productName,bid):\n",
    "    columns=['Product','Entity','Operation','Campaign Id','Ad Group Id','Portfolio Id',\n",
    "                           'Ad Id','Keyword Id','Product Targeting Id','Campaign Name','Ad Group Name',\n",
    "                           'Start Date','End Date','Targeting Type','State','Daily Budget','sku','asin',\n",
    "                           'Ad Group Default Bid','Bid','Keyword Text','Match Type','Bidding Strategy',\n",
    "                           'Placement','Percentage','Product Targeting Expression']\n",
    "    df = pd.DataFrame(columns=columns)\n",
    "\n",
    "# 5 dong co dinh\n",
    "    for i in range (0,5):\n",
    "        df = df.append(create_single_row(columns=columns,cam_id=cam_id),ignore_index=True)\n",
    "        \n",
    "    df.iloc[0]['Entity'] = 'Campaign'\n",
    "    df.iloc[0]['Campagin Name'] = cam_id\n",
    "    df.iloc[0]['Targeting Type'] = 'Manual'\n",
    "    df.iloc[0]['Start Date'] = date.today().strftime(\"%Y%m%d\")\n",
    "    df.iloc[0]['Daily Budget'] = budget\n",
    "    df.iloc[0]['Bidding Strategy'] = 'AAAAA'\n",
    "\n",
    "    df.iloc[1]['Entity'] = 'Bidding Adjustment'\n",
    "    df.iloc[1]['Placement'] = 'placementTop'\n",
    "    df.iloc[1]['Percentage'] = '0%'\n",
    "\n",
    "    df.iloc[2]['Entity'] = 'Bidding Adjustment'\n",
    "    df.iloc[2]['Placement'] = 'placementProd'\n",
    "    df.iloc[2]['Percentage'] = '0%'\n",
    "\n",
    "    df.iloc[3]['Entity'] = 'Ad group'\n",
    "    df.iloc[3]['Ad Group Id'] = cam_id\n",
    "    df.iloc[3]['Ad Group Name'] = cam_id\n",
    "    df.iloc[3]['Ad Group Default Bid'] = bid\n",
    "    \n",
    "    df.iloc[4]['Entity'] = 'Product ad'\n",
    "    df.iloc[4]['Ad Group Id'] = cam_id\n",
    "    df.iloc[4]['sku'] = productName\n",
    "\n",
    "# Optional Asin - so dong Asin  \n",
    "    for item in asin_list:\n",
    "        asin_row = create_single_row(columns=columns,cam_id=cam_id)\n",
    "        asin_row['Entity'] = 'Product targeting'\n",
    "        asin_row['Ad Group Id'] = cam_id\n",
    "        asin_row['Product Targeting Expression'] = '''asin=\"''' +str(item)+ '''\"'''\n",
    "        df = df.append(asin_row,ignore_index=True)\n",
    "        \n",
    "\n",
    "    return df"
   ]
  },
  {
   "cell_type": "code",
   "execution_count": 121,
   "metadata": {},
   "outputs": [],
   "source": [
    "# # df.to_excel('myexcel.xlsx',sheet_name='Sheet1',engine='xlsxwriter')\n",
    "# writer = pd.ExcelWriter(\"dataframe.xlsx\", engine='xlsxwriter')\n",
    "# df.to_excel(writer,sheet_name = 'sheet2', index=False)\n",
    "# writer.save() "
   ]
  },
  {
   "cell_type": "code",
   "execution_count": null,
   "metadata": {},
   "outputs": [],
   "source": [
    "output_df = createDataFrame(x1,x2,x3,x4,x5)\n",
    "output_df"
   ]
  },
  {
   "cell_type": "code",
   "execution_count": 123,
   "metadata": {},
   "outputs": [],
   "source": [
    "# df.to_excel('myexcel.xlsx',sheet_name='Sheet1',engine='xlsxwriter')\n",
    "writer = pd.ExcelWriter(\"dataframe.xlsx\", engine='xlsxwriter')\n",
    "output_df.to_excel(writer,sheet_name = 'sheet4', index=False)\n",
    "writer.save() "
   ]
  },
  {
   "cell_type": "code",
   "execution_count": null,
   "metadata": {},
   "outputs": [],
   "source": []
  }
 ],
 "metadata": {
  "kernelspec": {
   "display_name": "Python 3.10.8 64-bit (microsoft store)",
   "language": "python",
   "name": "python3"
  },
  "language_info": {
   "codemirror_mode": {
    "name": "ipython",
    "version": 3
   },
   "file_extension": ".py",
   "mimetype": "text/x-python",
   "name": "python",
   "nbconvert_exporter": "python",
   "pygments_lexer": "ipython3",
   "version": "3.10.8"
  },
  "orig_nbformat": 4,
  "vscode": {
   "interpreter": {
    "hash": "9cc9eef6c886ffbe145fd147c3f53a472d2c7af659f13d1140d7c488d5a4b711"
   }
  }
 },
 "nbformat": 4,
 "nbformat_minor": 2
}
